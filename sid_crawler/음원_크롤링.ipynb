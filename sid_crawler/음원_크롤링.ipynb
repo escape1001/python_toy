{
  "nbformat": 4,
  "nbformat_minor": 0,
  "metadata": {
    "colab": {
      "provenance": [],
      "collapsed_sections": [
        "M-lWg0E_mnwW",
        "PNyJ_Kuym0Wk"
      ],
      "authorship_tag": "ABX9TyMnxmNX1VKNTOzAy8CcN136",
      "include_colab_link": true
    },
    "kernelspec": {
      "name": "python3",
      "display_name": "Python 3"
    },
    "language_info": {
      "name": "python"
    }
  },
  "cells": [
    {
      "cell_type": "markdown",
      "metadata": {
        "id": "view-in-github",
        "colab_type": "text"
      },
      "source": [
        "<a href=\"https://colab.research.google.com/github/escape1001/python_toy/blob/main/sid_crawler/%EC%9D%8C%EC%9B%90_%ED%81%AC%EB%A1%A4%EB%A7%81.ipynb\" target=\"_parent\"><img src=\"https://colab.research.google.com/assets/colab-badge.svg\" alt=\"Open In Colab\"/></a>"
      ]
    },
    {
      "cell_type": "markdown",
      "source": [
        "# 벅스 sid로 재생시간 가져오기"
      ],
      "metadata": {
        "id": "M-lWg0E_mnwW"
      }
    },
    {
      "cell_type": "code",
      "execution_count": null,
      "metadata": {
        "id": "F-CTZZvHhQp8"
      },
      "outputs": [],
      "source": [
        "import requests\n",
        "from bs4 import BeautifulSoup\n",
        "\n",
        "# 벅스 sid\n",
        "track_list = [\n",
        "    \"6255299\",\n",
        "    \"6255300\",\n",
        "    \"6255301\",\n",
        "    \"6255302\",\n",
        "    \"6255303\",\n",
        "    \"6255304\",\n",
        "    \"6255305\",\n",
        "    \"6255306\",\n",
        "    \"6255307\",\n",
        "    \"6255308\",\n",
        "    '6255309',\n",
        "    \"6255310\",\n",
        "    \"6255311\",\n",
        "    \"6255312\",\n",
        "    \"6255313\"\n",
        "    ]\n",
        "\n",
        "soup_list = []\n",
        "for sid in track_list :\n",
        "    response = requests.get(f'https://music.bugs.co.kr/track/{sid}')\n",
        "    soup_list.append(BeautifulSoup(response.text, 'html.parser'))\n",
        "    # print(f'https://music.bugs.co.kr/track/{sid}')\n",
        "\n",
        "# soup_list\n"
      ]
    },
    {
      "cell_type": "code",
      "source": [
        "for soup in soup_list :\n",
        "    print(soup.select(\"#container table tr time\")[0].text)"
      ],
      "metadata": {
        "colab": {
          "base_uri": "https://localhost:8080/"
        },
        "id": "1brqe8wridJc",
        "outputId": "1f1304ea-f516-4516-fe65-24cfeeb15e73"
      },
      "execution_count": null,
      "outputs": [
        {
          "output_type": "stream",
          "name": "stdout",
          "text": [
            "03:00\n",
            "03:12\n",
            "03:39\n",
            "03:06\n",
            "03:51\n",
            "02:52\n",
            "03:03\n",
            "03:18\n",
            "03:09\n",
            "03:12\n",
            "03:26\n",
            "03:20\n",
            "03:53\n",
            "04:07\n",
            "03:26\n"
          ]
        }
      ]
    },
    {
      "cell_type": "markdown",
      "source": [
        "# 앨범 페이지에서 sid 긁어오기\n",
        "- 멜론, 지니, 벅스만 작동\n",
        "- 바이브, 플로는 CSR이라 셀레늄 or 수기작업 필요함."
      ],
      "metadata": {
        "id": "PNyJ_Kuym0Wk"
      }
    },
    {
      "cell_type": "code",
      "source": [
        "# 멜론, 지니 헤더 필요\n",
        "h = {\"User-Agent\": \"Mozilla/5.0 (Windows NT 10.0; Win64; x64) AppleWebKit/537.36 (KHTML, like Gecko) Chrome/90.0.4430.212 Safari/537.36\"}"
      ],
      "metadata": {
        "id": "WYZ7yoNqyoFM"
      },
      "execution_count": null,
      "outputs": []
    },
    {
      "cell_type": "markdown",
      "source": [
        "## 멜론"
      ],
      "metadata": {
        "id": "PKG08-pRuq0_"
      }
    },
    {
      "cell_type": "code",
      "source": [
        "album_url_melon = \"https://www.melon.com/album/detail.htm?albumId=11556551\" # 긁어올 앨범 페이지\n",
        "\n",
        "response_melon = requests.get(album_url_melon, headers=h)\n",
        "soup_melon = BeautifulSoup(response_melon.text, 'html.parser')"
      ],
      "metadata": {
        "id": "a7Zp1BhOuv-U"
      },
      "execution_count": null,
      "outputs": []
    },
    {
      "cell_type": "code",
      "source": [
        "print(\"멜론 - 제목\")\n",
        "for song in soup_melon.select(\".section_contin table tbody tr input\"):\n",
        "    print(song.attrs[\"title\"].replace(\" 곡 선택\", \"\"))"
      ],
      "metadata": {
        "colab": {
          "base_uri": "https://localhost:8080/"
        },
        "id": "NDjrZH3oYEj3",
        "outputId": "5d6dd741-fa57-49d0-ae92-a67faff9a82a"
      },
      "execution_count": null,
      "outputs": [
        {
          "output_type": "stream",
          "name": "stdout",
          "text": [
            "멜론 - 제목\n",
            "Lights On (2021 Ver.) (Inst.)\n",
            "My Song (Inst.)\n",
            "Your Song (Inst.)\n",
            "여름 시 (Summer Poem) (Inst.)\n",
            "여름의 끝 (Summer End) (Inst.)\n",
            "바람이 분다 (Love Effect) (Inst.)\n",
            "Complete (널 만난 순간) (Inst.)\n",
            "춤춰 (Ugly Dance) (Inst.)\n",
            "별일 아냐 (Yayaya) (Inst.)\n",
            "Fly Me To The Moon (Inst.)\n",
            "Moscow Moscow (Inst.)\n",
            "Why (Inst.)\n",
            "신세계 (New World) (Inst.)\n",
            "The 사랑하게 될 거야 (Inst.)\n",
            "Bye My Monster (Inst.)\n"
          ]
        }
      ]
    },
    {
      "cell_type": "code",
      "source": [
        "print(\"멜론\")\n",
        "for song in soup_melon.select(\".section_contin table tbody tr input\"):\n",
        "    print(song.attrs[\"value\"])"
      ],
      "metadata": {
        "colab": {
          "base_uri": "https://localhost:8080/"
        },
        "id": "RGXfQUmzvOBT",
        "outputId": "c56dd477-159f-4915-eefd-492e9e256c95"
      },
      "execution_count": null,
      "outputs": [
        {
          "output_type": "stream",
          "name": "stdout",
          "text": [
            "멜론\n",
            "37848261\n",
            "37848262\n",
            "37848263\n",
            "37848264\n",
            "37848265\n",
            "37848266\n",
            "37848267\n",
            "37848268\n",
            "37848269\n",
            "37848270\n",
            "37848271\n",
            "37848272\n",
            "37848273\n",
            "37848274\n",
            "37848275\n"
          ]
        }
      ]
    },
    {
      "cell_type": "markdown",
      "source": [
        "## 지니"
      ],
      "metadata": {
        "id": "zOfu6bVCxBAk"
      }
    },
    {
      "cell_type": "code",
      "source": [
        "album_url_genie = \"https://www.genie.co.kr/detail/albumInfo?axnm=85479259\" # 긁어올 앨범 페이지\n",
        "\n",
        "response_genie = requests.get(album_url_genie, headers=h)\n",
        "soup_genie = BeautifulSoup(response_genie.text, 'html.parser')"
      ],
      "metadata": {
        "id": "rU5HPnBUxDjr"
      },
      "execution_count": null,
      "outputs": []
    },
    {
      "cell_type": "code",
      "source": [
        "print(\"지니\")\n",
        "for song in soup_genie.select(\".songlist-box table tbody tr\"):\n",
        "    print(song.attrs[\"songid\"])"
      ],
      "metadata": {
        "colab": {
          "base_uri": "https://localhost:8080/"
        },
        "id": "0IkM-j8OxMtZ",
        "outputId": "415fa470-b363-489d-8c0e-bcf5bb8f2cb4"
      },
      "execution_count": null,
      "outputs": [
        {
          "output_type": "stream",
          "name": "stdout",
          "text": [
            "지니\n",
            "107391237\n",
            "107391238\n",
            "107391239\n",
            "107391225\n",
            "107391226\n",
            "107391227\n",
            "107391228\n",
            "107391229\n",
            "107391230\n",
            "107391231\n",
            "107391232\n",
            "107391233\n",
            "107391234\n",
            "107391235\n",
            "107391236\n"
          ]
        }
      ]
    },
    {
      "cell_type": "markdown",
      "source": [
        "## 벅스"
      ],
      "metadata": {
        "id": "SLtlqkh0usi3"
      }
    },
    {
      "cell_type": "code",
      "source": [
        "album_url_bugs = \"https://music.bugs.co.kr/album/4105053\" # 긁어올 앨범 페이지\n",
        "\n",
        "response_bugs = requests.get(album_url_bugs)\n",
        "soup_bugs = BeautifulSoup(response_bugs.text, 'html.parser')"
      ],
      "metadata": {
        "id": "rSxzpFIBm0Hn"
      },
      "execution_count": null,
      "outputs": []
    },
    {
      "cell_type": "code",
      "source": [
        "print(\"벅스\")\n",
        "for song in soup_bugs.select(\".trackList tr\")[1::]:\n",
        "    print(song.attrs[\"trackid\"])"
      ],
      "metadata": {
        "colab": {
          "base_uri": "https://localhost:8080/"
        },
        "id": "9AbeXrGNqIvV",
        "outputId": "97fc628b-9731-47fb-fc8f-499fac074961"
      },
      "execution_count": null,
      "outputs": [
        {
          "output_type": "stream",
          "name": "stdout",
          "text": [
            "벅스\n",
            "6255299\n",
            "6255300\n",
            "6255301\n",
            "6255302\n",
            "6255303\n",
            "6255304\n",
            "6255305\n",
            "6255306\n",
            "6255307\n",
            "6255308\n",
            "6255309\n",
            "6255310\n",
            "6255311\n",
            "6255312\n",
            "6255313\n"
          ]
        }
      ]
    }
  ]
}